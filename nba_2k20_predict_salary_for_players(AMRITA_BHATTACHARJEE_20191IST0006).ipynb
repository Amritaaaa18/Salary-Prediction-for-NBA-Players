{
  "nbformat": 4,
  "nbformat_minor": 0,
  "metadata": {
    "kernelspec": {
      "display_name": "Python 3",
      "language": "python",
      "name": "python3"
    },
    "language_info": {
      "codemirror_mode": {
        "name": "ipython",
        "version": 3
      },
      "file_extension": ".py",
      "mimetype": "text/x-python",
      "name": "python",
      "nbconvert_exporter": "python",
      "pygments_lexer": "ipython3",
      "version": "3.7.6"
    },
    "papermill": {
      "duration": 10.320157,
      "end_time": "2020-10-04T08:38:40.444922",
      "environment_variables": {},
      "exception": null,
      "input_path": "__notebook__.ipynb",
      "output_path": "__notebook__.ipynb",
      "parameters": {},
      "start_time": "2020-10-04T08:38:30.124765",
      "version": "2.1.0"
    },
    "colab": {
      "name": "nba-2k20-predict-salary-for-players(AMRITA BHATTACHARJEE-20191IST0006).ipynb",
      "provenance": [],
      "toc_visible": true
    }
  },
  "cells": [
    {
      "cell_type": "code",
      "metadata": {
        "_cell_guid": "b1076dfc-b9ad-4769-8c92-a6c4dae69d19",
        "_kg_hide-input": true,
        "_uuid": "8f2839f25d086af736a60e9eeb907d3b93b6e0e5",
        "execution": {
          "iopub.execute_input": "2020-10-04T08:38:35.395841Z",
          "iopub.status.busy": "2020-10-04T08:38:35.394997Z",
          "iopub.status.idle": "2020-10-04T08:38:37.772433Z",
          "shell.execute_reply": "2020-10-04T08:38:37.771443Z"
        },
        "papermill": {
          "duration": 2.402412,
          "end_time": "2020-10-04T08:38:37.772635",
          "exception": false,
          "start_time": "2020-10-04T08:38:35.370223",
          "status": "completed"
        },
        "tags": [],
        "id": "rDRJqRjUn1mE",
        "outputId": "6cc5988c-a927-43a2-d1e3-3d18a5418591"
      },
      "source": [
        "# This Python 3 environment comes with many helpful analytics libraries installed\n",
        "# It is defined by the kaggle/python Docker image: https://github.com/kaggle/docker-python\n",
        "# For example, here's several helpful packages to load\n",
        "\n",
        "import numpy as np # linear algebra\n",
        "import pandas as pd # data processing, CSV file I/O (e.g. pd.read_csv)\n",
        "from datetime import date, datetime\n",
        "from scipy import stats\n",
        "from sklearn import preprocessing\n",
        "from sklearn.model_selection import train_test_split\n",
        "import plotly.graph_objs as go\n",
        "import plotly.express as px\n",
        "\n",
        "from sklearn.metrics import mean_squared_error\n",
        "\n",
        "# Input data files are available in the read-only \"../input/\" directory\n",
        "# For example, running this (by clicking run or pressing Shift+Enter) will list all files under the input directory\n",
        "\n",
        "import os\n",
        "for dirname, _, filenames in os.walk('/kaggle/input'):\n",
        "    for filename in filenames:\n",
        "        print(os.path.join(dirname, filename))\n",
        "\n",
        "# You can write up to 5GB to the current directory (/kaggle/working/) that gets preserved as output when you create a version using \"Save & Run All\" \n",
        "# You can also write temporary files to /kaggle/temp/, but they won't be saved outside of the current session"
      ],
      "execution_count": null,
      "outputs": [
        {
          "name": "stdout",
          "output_type": "stream",
          "text": [
            "/kaggle/input/nba2k20-player-dataset/nba2k20-full.csv\n"
          ]
        }
      ]
    },
    {
      "cell_type": "code",
      "metadata": {
        "_cell_guid": "79c7e3d0-c299-4dcb-8224-4455121ee9b0",
        "_uuid": "d629ff2d2480ee46fbb7e2d37f6b5fab8052498a",
        "execution": {
          "iopub.execute_input": "2020-10-04T08:38:37.810221Z",
          "iopub.status.busy": "2020-10-04T08:38:37.809267Z",
          "iopub.status.idle": "2020-10-04T08:38:37.853962Z",
          "shell.execute_reply": "2020-10-04T08:38:37.853314Z"
        },
        "papermill": {
          "duration": 0.066598,
          "end_time": "2020-10-04T08:38:37.854136",
          "exception": false,
          "start_time": "2020-10-04T08:38:37.787538",
          "status": "completed"
        },
        "tags": [],
        "id": "DhR0Xl9Kn1mI",
        "outputId": "b1141f3f-87bb-4532-b12b-fd36ae931196"
      },
      "source": [
        "data = pd.read_csv('../input/nba2k20-player-dataset/nba2k20-full.csv')\n",
        "data.head(5)"
      ],
      "execution_count": null,
      "outputs": [
        {
          "data": {
            "text/html": [
              "<div>\n",
              "<style scoped>\n",
              "    .dataframe tbody tr th:only-of-type {\n",
              "        vertical-align: middle;\n",
              "    }\n",
              "\n",
              "    .dataframe tbody tr th {\n",
              "        vertical-align: top;\n",
              "    }\n",
              "\n",
              "    .dataframe thead th {\n",
              "        text-align: right;\n",
              "    }\n",
              "</style>\n",
              "<table border=\"1\" class=\"dataframe\">\n",
              "  <thead>\n",
              "    <tr style=\"text-align: right;\">\n",
              "      <th></th>\n",
              "      <th>full_name</th>\n",
              "      <th>rating</th>\n",
              "      <th>jersey</th>\n",
              "      <th>team</th>\n",
              "      <th>position</th>\n",
              "      <th>b_day</th>\n",
              "      <th>height</th>\n",
              "      <th>weight</th>\n",
              "      <th>salary</th>\n",
              "      <th>country</th>\n",
              "      <th>draft_year</th>\n",
              "      <th>draft_round</th>\n",
              "      <th>draft_peak</th>\n",
              "      <th>college</th>\n",
              "    </tr>\n",
              "  </thead>\n",
              "  <tbody>\n",
              "    <tr>\n",
              "      <th>0</th>\n",
              "      <td>LeBron James</td>\n",
              "      <td>97</td>\n",
              "      <td>#23</td>\n",
              "      <td>Los Angeles Lakers</td>\n",
              "      <td>F</td>\n",
              "      <td>12/30/84</td>\n",
              "      <td>6-9 / 2.06</td>\n",
              "      <td>250 lbs. / 113.4 kg.</td>\n",
              "      <td>$37436858</td>\n",
              "      <td>USA</td>\n",
              "      <td>2003</td>\n",
              "      <td>1</td>\n",
              "      <td>1</td>\n",
              "      <td>NaN</td>\n",
              "    </tr>\n",
              "    <tr>\n",
              "      <th>1</th>\n",
              "      <td>Kawhi Leonard</td>\n",
              "      <td>97</td>\n",
              "      <td>#2</td>\n",
              "      <td>Los Angeles Clippers</td>\n",
              "      <td>F</td>\n",
              "      <td>06/29/91</td>\n",
              "      <td>6-7 / 2.01</td>\n",
              "      <td>225 lbs. / 102.1 kg.</td>\n",
              "      <td>$32742000</td>\n",
              "      <td>USA</td>\n",
              "      <td>2011</td>\n",
              "      <td>1</td>\n",
              "      <td>15</td>\n",
              "      <td>San Diego State</td>\n",
              "    </tr>\n",
              "    <tr>\n",
              "      <th>2</th>\n",
              "      <td>Giannis Antetokounmpo</td>\n",
              "      <td>96</td>\n",
              "      <td>#34</td>\n",
              "      <td>Milwaukee Bucks</td>\n",
              "      <td>F-G</td>\n",
              "      <td>12/06/94</td>\n",
              "      <td>6-11 / 2.11</td>\n",
              "      <td>242 lbs. / 109.8 kg.</td>\n",
              "      <td>$25842697</td>\n",
              "      <td>Greece</td>\n",
              "      <td>2013</td>\n",
              "      <td>1</td>\n",
              "      <td>15</td>\n",
              "      <td>NaN</td>\n",
              "    </tr>\n",
              "    <tr>\n",
              "      <th>3</th>\n",
              "      <td>Kevin Durant</td>\n",
              "      <td>96</td>\n",
              "      <td>#7</td>\n",
              "      <td>Brooklyn Nets</td>\n",
              "      <td>F</td>\n",
              "      <td>09/29/88</td>\n",
              "      <td>6-10 / 2.08</td>\n",
              "      <td>230 lbs. / 104.3 kg.</td>\n",
              "      <td>$37199000</td>\n",
              "      <td>USA</td>\n",
              "      <td>2007</td>\n",
              "      <td>1</td>\n",
              "      <td>2</td>\n",
              "      <td>Texas</td>\n",
              "    </tr>\n",
              "    <tr>\n",
              "      <th>4</th>\n",
              "      <td>James Harden</td>\n",
              "      <td>96</td>\n",
              "      <td>#13</td>\n",
              "      <td>Houston Rockets</td>\n",
              "      <td>G</td>\n",
              "      <td>08/26/89</td>\n",
              "      <td>6-5 / 1.96</td>\n",
              "      <td>220 lbs. / 99.8 kg.</td>\n",
              "      <td>$38199000</td>\n",
              "      <td>USA</td>\n",
              "      <td>2009</td>\n",
              "      <td>1</td>\n",
              "      <td>3</td>\n",
              "      <td>Arizona State</td>\n",
              "    </tr>\n",
              "  </tbody>\n",
              "</table>\n",
              "</div>"
            ],
            "text/plain": [
              "               full_name  rating jersey                  team position  \\\n",
              "0           LeBron James      97    #23    Los Angeles Lakers        F   \n",
              "1          Kawhi Leonard      97     #2  Los Angeles Clippers        F   \n",
              "2  Giannis Antetokounmpo      96    #34       Milwaukee Bucks      F-G   \n",
              "3           Kevin Durant      96     #7         Brooklyn Nets        F   \n",
              "4           James Harden      96    #13       Houston Rockets        G   \n",
              "\n",
              "      b_day       height                weight     salary country  draft_year  \\\n",
              "0  12/30/84   6-9 / 2.06  250 lbs. / 113.4 kg.  $37436858     USA        2003   \n",
              "1  06/29/91   6-7 / 2.01  225 lbs. / 102.1 kg.  $32742000     USA        2011   \n",
              "2  12/06/94  6-11 / 2.11  242 lbs. / 109.8 kg.  $25842697  Greece        2013   \n",
              "3  09/29/88  6-10 / 2.08  230 lbs. / 104.3 kg.  $37199000     USA        2007   \n",
              "4  08/26/89   6-5 / 1.96   220 lbs. / 99.8 kg.  $38199000     USA        2009   \n",
              "\n",
              "  draft_round draft_peak          college  \n",
              "0           1          1              NaN  \n",
              "1           1         15  San Diego State  \n",
              "2           1         15              NaN  \n",
              "3           1          2            Texas  \n",
              "4           1          3    Arizona State  "
            ]
          },
          "execution_count": 2,
          "metadata": {},
          "output_type": "execute_result"
        }
      ]
    },
    {
      "cell_type": "markdown",
      "metadata": {
        "papermill": {
          "duration": 0.015101,
          "end_time": "2020-10-04T08:38:37.883981",
          "exception": false,
          "start_time": "2020-10-04T08:38:37.868880",
          "status": "completed"
        },
        "tags": [],
        "id": "jf1qk97Rn1mJ"
      },
      "source": [
        "Let's take a look on data types"
      ]
    },
    {
      "cell_type": "code",
      "metadata": {
        "execution": {
          "iopub.execute_input": "2020-10-04T08:38:37.940594Z",
          "iopub.status.busy": "2020-10-04T08:38:37.939606Z",
          "iopub.status.idle": "2020-10-04T08:38:37.944096Z",
          "shell.execute_reply": "2020-10-04T08:38:37.943330Z"
        },
        "papermill": {
          "duration": 0.045127,
          "end_time": "2020-10-04T08:38:37.944233",
          "exception": false,
          "start_time": "2020-10-04T08:38:37.899106",
          "status": "completed"
        },
        "tags": [],
        "id": "nyw_o-7Gn1mK",
        "outputId": "d52a6fdd-1651-4481-8e93-86ebbc747fc7"
      },
      "source": [
        "data.info()"
      ],
      "execution_count": null,
      "outputs": [
        {
          "name": "stdout",
          "output_type": "stream",
          "text": [
            "<class 'pandas.core.frame.DataFrame'>\n",
            "RangeIndex: 429 entries, 0 to 428\n",
            "Data columns (total 14 columns):\n",
            " #   Column       Non-Null Count  Dtype \n",
            "---  ------       --------------  ----- \n",
            " 0   full_name    429 non-null    object\n",
            " 1   rating       429 non-null    int64 \n",
            " 2   jersey       429 non-null    object\n",
            " 3   team         406 non-null    object\n",
            " 4   position     429 non-null    object\n",
            " 5   b_day        429 non-null    object\n",
            " 6   height       429 non-null    object\n",
            " 7   weight       429 non-null    object\n",
            " 8   salary       429 non-null    object\n",
            " 9   country      429 non-null    object\n",
            " 10  draft_year   429 non-null    int64 \n",
            " 11  draft_round  429 non-null    object\n",
            " 12  draft_peak   429 non-null    object\n",
            " 13  college      363 non-null    object\n",
            "dtypes: int64(2), object(12)\n",
            "memory usage: 47.0+ KB\n"
          ]
        }
      ]
    },
    {
      "cell_type": "markdown",
      "metadata": {
        "papermill": {
          "duration": 0.0147,
          "end_time": "2020-10-04T08:38:37.974456",
          "exception": false,
          "start_time": "2020-10-04T08:38:37.959756",
          "status": "completed"
        },
        "tags": [],
        "id": "LiSwAIRcn1mL"
      },
      "source": [
        "As we can see, we have only 2 int columns, but we have data, that we can preprocess to get numerical data"
      ]
    },
    {
      "cell_type": "code",
      "metadata": {
        "_kg_hide-input": true,
        "execution": {
          "iopub.execute_input": "2020-10-04T08:38:38.023471Z",
          "iopub.status.busy": "2020-10-04T08:38:38.019970Z",
          "iopub.status.idle": "2020-10-04T08:38:38.027447Z",
          "shell.execute_reply": "2020-10-04T08:38:38.026781Z"
        },
        "papermill": {
          "duration": 0.038105,
          "end_time": "2020-10-04T08:38:38.027602",
          "exception": false,
          "start_time": "2020-10-04T08:38:37.989497",
          "status": "completed"
        },
        "tags": [],
        "id": "KakTwvICn1mL"
      },
      "source": [
        "def prepare_data(data: pd.DataFrame):\n",
        "    '''\n",
        "        Preprocesses data\n",
        "    '''\n",
        "    def calculateAge(birthDate: str):\n",
        "        '''\n",
        "        calculates age of person, on given birth day\n",
        "        '''\n",
        "        datetime_object = datetime.strptime(birthDate, '%m/%d/%y')\n",
        "        today = date.today() \n",
        "        age = today.year - datetime_object.year -  ((today.month, today.day) < (datetime_object.month, datetime_object.day)) \n",
        "        return age \n",
        "    \n",
        "    data['jersey'] = data['jersey'].apply(lambda x: int(x[1:]))\n",
        "    data['age'] = data['b_day'].apply(calculateAge)\n",
        "    data['height'] = data['height'].apply(lambda x: float(x.split('/')[1]))\n",
        "    data['weight'] = data['weight'].apply(lambda x: float(x.split('/')[1].split(' ')[1]))\n",
        "    data['salary'] = data['salary'].apply(lambda x: float(x[1:]))\n",
        "    data['draft_round'].replace('Undrafted', 0, inplace = True)\n",
        "    data['draft_round'] = data['draft_round'].apply(int)\n",
        "    data['team'] = data['team'].fillna('No team')\n",
        "    data['college'] = data['college'].fillna('No education')\n",
        "    data.drop(['b_day', 'draft_peak'], axis = 1, inplace = True)"
      ],
      "execution_count": null,
      "outputs": []
    },
    {
      "cell_type": "markdown",
      "metadata": {
        "papermill": {
          "duration": 0.015079,
          "end_time": "2020-10-04T08:38:38.060292",
          "exception": false,
          "start_time": "2020-10-04T08:38:38.045213",
          "status": "completed"
        },
        "tags": [],
        "id": "oVHQ5kgVn1mM"
      },
      "source": [
        "Feature engineering"
      ]
    },
    {
      "cell_type": "code",
      "metadata": {
        "_kg_hide-input": true,
        "execution": {
          "iopub.execute_input": "2020-10-04T08:38:38.108302Z",
          "iopub.status.busy": "2020-10-04T08:38:38.105183Z",
          "iopub.status.idle": "2020-10-04T08:38:38.188809Z",
          "shell.execute_reply": "2020-10-04T08:38:38.187989Z"
        },
        "papermill": {
          "duration": 0.113295,
          "end_time": "2020-10-04T08:38:38.188942",
          "exception": false,
          "start_time": "2020-10-04T08:38:38.075647",
          "status": "completed"
        },
        "tags": [],
        "id": "lJOX8a9Dn1mN"
      },
      "source": [
        "\n",
        "data = pd.read_csv('../input/nba2k20-player-dataset/nba2k20-full.csv')\n",
        "prepare_data(data)\n",
        "\n",
        "#creating categories to teams by mean salary\n",
        "salary = data[['salary', 'team']]\n",
        "new_sal = salary.groupby('team').mean().reset_index()\n",
        "boundaries = [np.NINF, 7E+6, 7.6E+6, 8.1E+6, 9E+6, 9.5E+6, np.Inf]\n",
        "new_sal['team_salary'] = pd.cut(salary.groupby('team').mean().\\\n",
        "                                reset_index()['salary'], bins=boundaries)\n",
        "new_sal.drop(['salary'], axis = 1, inplace = True)\n",
        "#merging this categories to data\n",
        "data = data.merge(new_sal, on = 'team', how = 'left')\n",
        "\n",
        "#removing imbalanced data\n",
        "data.loc[data['country'] != 'USA', 'country'] = 'not USA'\n",
        "data.loc[data['position'] == 'C-F', 'position'] = 'F-C'\n",
        "data.loc[data['position'] == 'F-G', 'position'] = 'F'\n",
        "data.loc[data['position'] == 'G-F', 'position'] = 'F'\n",
        "\n",
        "# we should drop full_name because it doesn't have anything meaning for this type of model\n",
        "# we should drop jersey because it doesn't have high correlation\n",
        "# we should drop team because we have already preprocessed it\n",
        "# For now we should drop college because there is too much colleges with just 5 or less occurances\n",
        "data = data.drop(['full_name', 'jersey',  'team', 'college'], axis = 1)\n",
        "\n",
        "# converting categorical data to one-hot encoding\n",
        "data = pd.get_dummies(data, \n",
        "                      columns = ['team_salary', 'position', 'country', 'draft_round'],\n",
        "                      drop_first = True)\n",
        "\n",
        "X, y = data.drop(['salary'], axis = 1), data['salary']\n",
        "#normalizing input features\n",
        "normalizer = preprocessing.Normalizer().fit(X)\n",
        "X = normalizer.transform(X)\n"
      ],
      "execution_count": null,
      "outputs": []
    },
    {
      "cell_type": "code",
      "metadata": {
        "execution": {
          "iopub.execute_input": "2020-10-04T08:38:38.227421Z",
          "iopub.status.busy": "2020-10-04T08:38:38.226519Z",
          "iopub.status.idle": "2020-10-04T08:38:38.232931Z",
          "shell.execute_reply": "2020-10-04T08:38:38.232223Z"
        },
        "papermill": {
          "duration": 0.028754,
          "end_time": "2020-10-04T08:38:38.233104",
          "exception": false,
          "start_time": "2020-10-04T08:38:38.204350",
          "status": "completed"
        },
        "tags": [],
        "id": "THv5w5zXn1mO"
      },
      "source": [
        "#Split data into random train and test\n",
        "X_train, X_test, y_train, y_test = train_test_split(X, y, test_size = 0.2, random_state = 0)"
      ],
      "execution_count": null,
      "outputs": []
    },
    {
      "cell_type": "markdown",
      "metadata": {
        "papermill": {
          "duration": 0.015977,
          "end_time": "2020-10-04T08:38:38.265598",
          "exception": false,
          "start_time": "2020-10-04T08:38:38.249621",
          "status": "completed"
        },
        "tags": [],
        "id": "UbUb1ge3n1mO"
      },
      "source": [
        "# **Predict salary for players**"
      ]
    },
    {
      "cell_type": "markdown",
      "metadata": {
        "papermill": {
          "duration": 0.016059,
          "end_time": "2020-10-04T08:38:38.297459",
          "exception": false,
          "start_time": "2020-10-04T08:38:38.281400",
          "status": "completed"
        },
        "tags": [],
        "id": "dlePiB8an1mP"
      },
      "source": [
        "I choose xgboost, because it has good performance and, as bonus, it is fast. This library widely used in production and Kaggle because of its highly accuracy and ease-in-use.  "
      ]
    },
    {
      "cell_type": "code",
      "metadata": {
        "_kg_hide-input": false,
        "execution": {
          "iopub.execute_input": "2020-10-04T08:38:38.342482Z",
          "iopub.status.busy": "2020-10-04T08:38:38.341598Z",
          "iopub.status.idle": "2020-10-04T08:38:38.783248Z",
          "shell.execute_reply": "2020-10-04T08:38:38.784136Z"
        },
        "papermill": {
          "duration": 0.469742,
          "end_time": "2020-10-04T08:38:38.784332",
          "exception": false,
          "start_time": "2020-10-04T08:38:38.314590",
          "status": "completed"
        },
        "tags": [],
        "id": "Fh37ShWGn1mP",
        "outputId": "71db6777-af2c-408a-a614-3ac6e44d10bb"
      },
      "source": [
        "from xgboost import XGBRegressor\n",
        "\n",
        "model = XGBRegressor( \n",
        "    n_estimators = 300,\n",
        "    learning_rate=0.06,\n",
        "    colsample_bytree=0.9, \n",
        "    min_child_weight=3,\n",
        "    max_depth = 2,\n",
        "    subsample = 0.63,\n",
        "    eta = 0.1,\n",
        "    seed=0)\n",
        "\n",
        "\n",
        "model = model.fit(\n",
        "    X_train, \n",
        "    y_train, \n",
        "    eval_metric=\"rmse\", \n",
        "    early_stopping_rounds=20,\n",
        "    eval_set=[(X_test,y_test)],\n",
        "    verbose=False)\n",
        "\n",
        "predictions = model.predict(X_test)\n",
        "\n",
        "\n",
        "\n",
        "print(\"RMSE: \", round(np.sqrt(mean_squared_error(y_test, predictions)), 2))"
      ],
      "execution_count": null,
      "outputs": [
        {
          "name": "stdout",
          "output_type": "stream",
          "text": [
            "RMSE:  3883501.67\n"
          ]
        }
      ]
    },
    {
      "cell_type": "markdown",
      "metadata": {
        "papermill": {
          "duration": 0.019348,
          "end_time": "2020-10-04T08:38:38.822931",
          "exception": false,
          "start_time": "2020-10-04T08:38:38.803583",
          "status": "completed"
        },
        "tags": [],
        "id": "QVew0EALn1mQ"
      },
      "source": [
        "We can see, that our model good in detecting high salaries(10M+), but have some troubles in detecting smaller salaries. It maybe can be improved by collecting historical data to expand dataset or by using some tricky feature engineering techniques, that can be advised by person who has good knowledge in this domain"
      ]
    },
    {
      "cell_type": "code",
      "metadata": {
        "_kg_hide-input": true,
        "execution": {
          "iopub.execute_input": "2020-10-04T08:38:38.871718Z",
          "iopub.status.busy": "2020-10-04T08:38:38.870763Z",
          "iopub.status.idle": "2020-10-04T08:38:39.038729Z",
          "shell.execute_reply": "2020-10-04T08:38:39.037673Z"
        },
        "papermill": {
          "duration": 0.195975,
          "end_time": "2020-10-04T08:38:39.038922",
          "exception": false,
          "start_time": "2020-10-04T08:38:38.842947",
          "status": "completed"
        },
        "tags": [],
        "id": "LfJ70wdLn1mQ",
        "outputId": "b4f22553-95ce-4ed3-b694-5d04f2623043"
      },
      "source": [
        "x_ax = list(range(len(y_test)))\n",
        "fig = go.Figure([go.Scatter(x=x_ax, y=y_test, name='original'), go.Scatter(x=x_ax, y=predictions, name='predicted')])\n",
        "fig.show()"
      ],
      "execution_count": null,
      "outputs": [
        {
          "data": {
            "text/html": [
              "        <script type=\"text/javascript\">\n",
              "        window.PlotlyConfig = {MathJaxConfig: 'local'};\n",
              "        if (window.MathJax) {MathJax.Hub.Config({SVG: {font: \"STIX-Web\"}});}\n",
              "        if (typeof require !== 'undefined') {\n",
              "        require.undef(\"plotly\");\n",
              "        requirejs.config({\n",
              "            paths: {\n",
              "                'plotly': ['https://cdn.plot.ly/plotly-latest.min']\n",
              "            }\n",
              "        });\n",
              "        require(['plotly'], function(Plotly) {\n",
              "            window._Plotly = Plotly;\n",
              "        });\n",
              "        }\n",
              "        </script>\n",
              "        "
            ]
          },
          "metadata": {},
          "output_type": "display_data"
        },
        {
          "data": {
            "text/html": [
              "<div>                            <div id=\"5674137c-8c23-4de2-9bd6-492763e54edd\" class=\"plotly-graph-div\" style=\"height:525px; width:100%;\"></div>            <script type=\"text/javascript\">                require([\"plotly\"], function(Plotly) {                    window.PLOTLYENV=window.PLOTLYENV || {};                                    if (document.getElementById(\"5674137c-8c23-4de2-9bd6-492763e54edd\")) {                    Plotly.newPlot(                        \"5674137c-8c23-4de2-9bd6-492763e54edd\",                        [{\"name\": \"original\", \"type\": \"scatter\", \"x\": [0, 1, 2, 3, 4, 5, 6, 7, 8, 9, 10, 11, 12, 13, 14, 15, 16, 17, 18, 19, 20, 21, 22, 23, 24, 25, 26, 27, 28, 29, 30, 31, 32, 33, 34, 35, 36, 37, 38, 39, 40, 41, 42, 43, 44, 45, 46, 47, 48, 49, 50, 51, 52, 53, 54, 55, 56, 57, 58, 59, 60, 61, 62, 63, 64, 65, 66, 67, 68, 69, 70, 71, 72, 73, 74, 75, 76, 77, 78, 79, 80, 81, 82, 83, 84, 85], \"y\": [1882867.0, 4463640.0, 8556120.0, 2338846.0, 31742000.0, 2475840.0, 1290960.0, 10500000.0, 18539130.0, 4767000.0, 26000000.0, 1488231.0, 2105520.0, 1995120.0, 18606556.0, 11011234.0, 17839286.0, 2905800.0, 4767000.0, 4767000.0, 4160000.0, 79568.0, 8730240.0, 32742000.0, 28000000.0, 14654179.0, 3377568.0, 4764960.0, 3640200.0, 38506482.0, 1416852.0, 1962360.0, 12678571.0, 1925880.0, 12475385.0, 3754885.0, 14041096.0, 4033440.0, 2833704.0, 3481985.0, 16000000.0, 1445697.0, 250000.0, 1948080.0, 32742000.0, 6534829.0, 5300400.0, 2487033.0, 4469160.0, 2063520.0, 2028594.0, 1911600.0, 27093019.0, 7666667.0, 1416852.0, 10740740.0, 1676735.0, 2000000.0, 898310.0, 16229213.0, 19894737.0, 28942830.0, 1788296.0, 1416852.0, 2033160.0, 9562920.0, 3321029.0, 2000000.0, 3755400.0, 2731713.0, 8000000.0, 3481985.0, 2174318.0, 9881598.0, 2320044.0, 7339258.0, 15349400.0, 2686560.0, 4444746.0, 19863636.0, 21000000.0, 19500000.0, 4767000.0, 38199000.0, 17818456.0, 2875000.0]}, {\"name\": \"predicted\", \"type\": \"scatter\", \"x\": [0, 1, 2, 3, 4, 5, 6, 7, 8, 9, 10, 11, 12, 13, 14, 15, 16, 17, 18, 19, 20, 21, 22, 23, 24, 25, 26, 27, 28, 29, 30, 31, 32, 33, 34, 35, 36, 37, 38, 39, 40, 41, 42, 43, 44, 45, 46, 47, 48, 49, 50, 51, 52, 53, 54, 55, 56, 57, 58, 59, 60, 61, 62, 63, 64, 65, 66, 67, 68, 69, 70, 71, 72, 73, 74, 75, 76, 77, 78, 79, 80, 81, 82, 83, 84, 85], \"y\": [9960428.0, 4353902.5, 7803292.0, 3206146.5, 32520514.0, 2389528.75, 1700985.0, 15216726.0, 16073276.0, 2782634.0, 30029010.0, 2085055.875, 1850563.5, 2716684.75, 9755706.0, 10849138.0, 14647152.0, 2085055.875, 6326657.5, 8047072.5, 11032798.0, 1950991.5, 5825204.5, 31580498.0, 25349222.0, 7228022.0, 3191413.0, 4149097.0, 2103663.75, 33644316.0, 2249553.25, 1669356.5, 9239688.0, 1971553.875, 8443126.0, 4486122.5, 12578846.0, 2168836.75, 6253032.0, 4225225.0, 19615596.0, 1800327.125, 1965600.875, 6797734.5, 32035918.0, 6663496.5, 9470912.0, 5428811.5, 2467406.0, 1800327.125, 6538555.5, 2151367.5, 29756202.0, 9060146.0, 1967954.5, 11416354.0, 5032009.5, 2571526.25, 4604753.0, 8405104.0, 9005786.0, 22304256.0, 1981534.625, 2085055.875, 1669356.5, 8686158.0, 3523778.0, 5156773.0, 2885141.75, 5477033.5, 6245416.0, 8162883.0, 6434622.5, 16312640.0, 8431938.0, 14086374.0, 8537164.0, 7376807.0, 10175738.0, 14588170.0, 27169650.0, 19162570.0, 12072928.0, 32755208.0, 8124287.5, 3540626.0]}],                        {\"template\": {\"data\": {\"bar\": [{\"error_x\": {\"color\": \"#2a3f5f\"}, \"error_y\": {\"color\": \"#2a3f5f\"}, \"marker\": {\"line\": {\"color\": \"#E5ECF6\", \"width\": 0.5}}, \"type\": \"bar\"}], \"barpolar\": [{\"marker\": {\"line\": {\"color\": \"#E5ECF6\", \"width\": 0.5}}, \"type\": \"barpolar\"}], \"carpet\": [{\"aaxis\": {\"endlinecolor\": \"#2a3f5f\", \"gridcolor\": \"white\", \"linecolor\": \"white\", \"minorgridcolor\": \"white\", \"startlinecolor\": \"#2a3f5f\"}, \"baxis\": {\"endlinecolor\": \"#2a3f5f\", \"gridcolor\": \"white\", \"linecolor\": \"white\", \"minorgridcolor\": \"white\", \"startlinecolor\": \"#2a3f5f\"}, \"type\": \"carpet\"}], \"choropleth\": [{\"colorbar\": {\"outlinewidth\": 0, \"ticks\": \"\"}, \"type\": \"choropleth\"}], \"contour\": [{\"colorbar\": {\"outlinewidth\": 0, \"ticks\": \"\"}, \"colorscale\": [[0.0, \"#0d0887\"], [0.1111111111111111, \"#46039f\"], [0.2222222222222222, \"#7201a8\"], [0.3333333333333333, \"#9c179e\"], [0.4444444444444444, \"#bd3786\"], [0.5555555555555556, \"#d8576b\"], [0.6666666666666666, \"#ed7953\"], [0.7777777777777778, \"#fb9f3a\"], [0.8888888888888888, \"#fdca26\"], [1.0, \"#f0f921\"]], \"type\": \"contour\"}], \"contourcarpet\": [{\"colorbar\": {\"outlinewidth\": 0, \"ticks\": \"\"}, \"type\": \"contourcarpet\"}], \"heatmap\": [{\"colorbar\": {\"outlinewidth\": 0, \"ticks\": \"\"}, \"colorscale\": [[0.0, \"#0d0887\"], [0.1111111111111111, \"#46039f\"], [0.2222222222222222, \"#7201a8\"], [0.3333333333333333, \"#9c179e\"], [0.4444444444444444, \"#bd3786\"], [0.5555555555555556, \"#d8576b\"], [0.6666666666666666, \"#ed7953\"], [0.7777777777777778, \"#fb9f3a\"], [0.8888888888888888, \"#fdca26\"], [1.0, \"#f0f921\"]], \"type\": \"heatmap\"}], \"heatmapgl\": [{\"colorbar\": {\"outlinewidth\": 0, \"ticks\": \"\"}, \"colorscale\": [[0.0, \"#0d0887\"], [0.1111111111111111, \"#46039f\"], [0.2222222222222222, \"#7201a8\"], [0.3333333333333333, \"#9c179e\"], [0.4444444444444444, \"#bd3786\"], [0.5555555555555556, \"#d8576b\"], [0.6666666666666666, \"#ed7953\"], [0.7777777777777778, \"#fb9f3a\"], [0.8888888888888888, \"#fdca26\"], [1.0, \"#f0f921\"]], \"type\": \"heatmapgl\"}], \"histogram\": [{\"marker\": {\"colorbar\": {\"outlinewidth\": 0, \"ticks\": \"\"}}, \"type\": \"histogram\"}], \"histogram2d\": [{\"colorbar\": {\"outlinewidth\": 0, \"ticks\": \"\"}, \"colorscale\": [[0.0, \"#0d0887\"], [0.1111111111111111, \"#46039f\"], [0.2222222222222222, \"#7201a8\"], [0.3333333333333333, \"#9c179e\"], [0.4444444444444444, \"#bd3786\"], [0.5555555555555556, \"#d8576b\"], [0.6666666666666666, \"#ed7953\"], [0.7777777777777778, \"#fb9f3a\"], [0.8888888888888888, \"#fdca26\"], [1.0, \"#f0f921\"]], \"type\": \"histogram2d\"}], \"histogram2dcontour\": [{\"colorbar\": {\"outlinewidth\": 0, \"ticks\": \"\"}, \"colorscale\": [[0.0, \"#0d0887\"], [0.1111111111111111, \"#46039f\"], [0.2222222222222222, \"#7201a8\"], [0.3333333333333333, \"#9c179e\"], [0.4444444444444444, \"#bd3786\"], [0.5555555555555556, \"#d8576b\"], [0.6666666666666666, \"#ed7953\"], [0.7777777777777778, \"#fb9f3a\"], [0.8888888888888888, \"#fdca26\"], [1.0, \"#f0f921\"]], \"type\": \"histogram2dcontour\"}], \"mesh3d\": [{\"colorbar\": {\"outlinewidth\": 0, \"ticks\": \"\"}, \"type\": \"mesh3d\"}], \"parcoords\": [{\"line\": {\"colorbar\": {\"outlinewidth\": 0, \"ticks\": \"\"}}, \"type\": \"parcoords\"}], \"pie\": [{\"automargin\": true, \"type\": \"pie\"}], \"scatter\": [{\"marker\": {\"colorbar\": {\"outlinewidth\": 0, \"ticks\": \"\"}}, \"type\": \"scatter\"}], \"scatter3d\": [{\"line\": {\"colorbar\": {\"outlinewidth\": 0, \"ticks\": \"\"}}, \"marker\": {\"colorbar\": {\"outlinewidth\": 0, \"ticks\": \"\"}}, \"type\": \"scatter3d\"}], \"scattercarpet\": [{\"marker\": {\"colorbar\": {\"outlinewidth\": 0, \"ticks\": \"\"}}, \"type\": \"scattercarpet\"}], \"scattergeo\": [{\"marker\": {\"colorbar\": {\"outlinewidth\": 0, \"ticks\": \"\"}}, \"type\": \"scattergeo\"}], \"scattergl\": [{\"marker\": {\"colorbar\": {\"outlinewidth\": 0, \"ticks\": \"\"}}, \"type\": \"scattergl\"}], \"scattermapbox\": [{\"marker\": {\"colorbar\": {\"outlinewidth\": 0, \"ticks\": \"\"}}, \"type\": \"scattermapbox\"}], \"scatterpolar\": [{\"marker\": {\"colorbar\": {\"outlinewidth\": 0, \"ticks\": \"\"}}, \"type\": \"scatterpolar\"}], \"scatterpolargl\": [{\"marker\": {\"colorbar\": {\"outlinewidth\": 0, \"ticks\": \"\"}}, \"type\": \"scatterpolargl\"}], \"scatterternary\": [{\"marker\": {\"colorbar\": {\"outlinewidth\": 0, \"ticks\": \"\"}}, \"type\": \"scatterternary\"}], \"surface\": [{\"colorbar\": {\"outlinewidth\": 0, \"ticks\": \"\"}, \"colorscale\": [[0.0, \"#0d0887\"], [0.1111111111111111, \"#46039f\"], [0.2222222222222222, \"#7201a8\"], [0.3333333333333333, \"#9c179e\"], [0.4444444444444444, \"#bd3786\"], [0.5555555555555556, \"#d8576b\"], [0.6666666666666666, \"#ed7953\"], [0.7777777777777778, \"#fb9f3a\"], [0.8888888888888888, \"#fdca26\"], [1.0, \"#f0f921\"]], \"type\": \"surface\"}], \"table\": [{\"cells\": {\"fill\": {\"color\": \"#EBF0F8\"}, \"line\": {\"color\": \"white\"}}, \"header\": {\"fill\": {\"color\": \"#C8D4E3\"}, \"line\": {\"color\": \"white\"}}, \"type\": \"table\"}]}, \"layout\": {\"annotationdefaults\": {\"arrowcolor\": \"#2a3f5f\", \"arrowhead\": 0, \"arrowwidth\": 1}, \"coloraxis\": {\"colorbar\": {\"outlinewidth\": 0, \"ticks\": \"\"}}, \"colorscale\": {\"diverging\": [[0, \"#8e0152\"], [0.1, \"#c51b7d\"], [0.2, \"#de77ae\"], [0.3, \"#f1b6da\"], [0.4, \"#fde0ef\"], [0.5, \"#f7f7f7\"], [0.6, \"#e6f5d0\"], [0.7, \"#b8e186\"], [0.8, \"#7fbc41\"], [0.9, \"#4d9221\"], [1, \"#276419\"]], \"sequential\": [[0.0, \"#0d0887\"], [0.1111111111111111, \"#46039f\"], [0.2222222222222222, \"#7201a8\"], [0.3333333333333333, \"#9c179e\"], [0.4444444444444444, \"#bd3786\"], [0.5555555555555556, \"#d8576b\"], [0.6666666666666666, \"#ed7953\"], [0.7777777777777778, \"#fb9f3a\"], [0.8888888888888888, \"#fdca26\"], [1.0, \"#f0f921\"]], \"sequentialminus\": [[0.0, \"#0d0887\"], [0.1111111111111111, \"#46039f\"], [0.2222222222222222, \"#7201a8\"], [0.3333333333333333, \"#9c179e\"], [0.4444444444444444, \"#bd3786\"], [0.5555555555555556, \"#d8576b\"], [0.6666666666666666, \"#ed7953\"], [0.7777777777777778, \"#fb9f3a\"], [0.8888888888888888, \"#fdca26\"], [1.0, \"#f0f921\"]]}, \"colorway\": [\"#636efa\", \"#EF553B\", \"#00cc96\", \"#ab63fa\", \"#FFA15A\", \"#19d3f3\", \"#FF6692\", \"#B6E880\", \"#FF97FF\", \"#FECB52\"], \"font\": {\"color\": \"#2a3f5f\"}, \"geo\": {\"bgcolor\": \"white\", \"lakecolor\": \"white\", \"landcolor\": \"#E5ECF6\", \"showlakes\": true, \"showland\": true, \"subunitcolor\": \"white\"}, \"hoverlabel\": {\"align\": \"left\"}, \"hovermode\": \"closest\", \"mapbox\": {\"style\": \"light\"}, \"paper_bgcolor\": \"white\", \"plot_bgcolor\": \"#E5ECF6\", \"polar\": {\"angularaxis\": {\"gridcolor\": \"white\", \"linecolor\": \"white\", \"ticks\": \"\"}, \"bgcolor\": \"#E5ECF6\", \"radialaxis\": {\"gridcolor\": \"white\", \"linecolor\": \"white\", \"ticks\": \"\"}}, \"scene\": {\"xaxis\": {\"backgroundcolor\": \"#E5ECF6\", \"gridcolor\": \"white\", \"gridwidth\": 2, \"linecolor\": \"white\", \"showbackground\": true, \"ticks\": \"\", \"zerolinecolor\": \"white\"}, \"yaxis\": {\"backgroundcolor\": \"#E5ECF6\", \"gridcolor\": \"white\", \"gridwidth\": 2, \"linecolor\": \"white\", \"showbackground\": true, \"ticks\": \"\", \"zerolinecolor\": \"white\"}, \"zaxis\": {\"backgroundcolor\": \"#E5ECF6\", \"gridcolor\": \"white\", \"gridwidth\": 2, \"linecolor\": \"white\", \"showbackground\": true, \"ticks\": \"\", \"zerolinecolor\": \"white\"}}, \"shapedefaults\": {\"line\": {\"color\": \"#2a3f5f\"}}, \"ternary\": {\"aaxis\": {\"gridcolor\": \"white\", \"linecolor\": \"white\", \"ticks\": \"\"}, \"baxis\": {\"gridcolor\": \"white\", \"linecolor\": \"white\", \"ticks\": \"\"}, \"bgcolor\": \"#E5ECF6\", \"caxis\": {\"gridcolor\": \"white\", \"linecolor\": \"white\", \"ticks\": \"\"}}, \"title\": {\"x\": 0.05}, \"xaxis\": {\"automargin\": true, \"gridcolor\": \"white\", \"linecolor\": \"white\", \"ticks\": \"\", \"title\": {\"standoff\": 15}, \"zerolinecolor\": \"white\", \"zerolinewidth\": 2}, \"yaxis\": {\"automargin\": true, \"gridcolor\": \"white\", \"linecolor\": \"white\", \"ticks\": \"\", \"title\": {\"standoff\": 15}, \"zerolinecolor\": \"white\", \"zerolinewidth\": 2}}}},                        {\"responsive\": true}                    ).then(function(){\n",
              "                            \n",
              "var gd = document.getElementById('5674137c-8c23-4de2-9bd6-492763e54edd');\n",
              "var x = new MutationObserver(function (mutations, observer) {{\n",
              "        var display = window.getComputedStyle(gd).display;\n",
              "        if (!display || display === 'none') {{\n",
              "            console.log([gd, 'removed!']);\n",
              "            Plotly.purge(gd);\n",
              "            observer.disconnect();\n",
              "        }}\n",
              "}});\n",
              "\n",
              "// Listen for the removal of the full notebook cells\n",
              "var notebookContainer = gd.closest('#notebook-container');\n",
              "if (notebookContainer) {{\n",
              "    x.observe(notebookContainer, {childList: true});\n",
              "}}\n",
              "\n",
              "// Listen for the clearing of the current output cell\n",
              "var outputEl = gd.closest('.output');\n",
              "if (outputEl) {{\n",
              "    x.observe(outputEl, {childList: true});\n",
              "}}\n",
              "\n",
              "                        })                };                });            </script>        </div>"
            ]
          },
          "metadata": {},
          "output_type": "display_data"
        }
      ]
    },
    {
      "cell_type": "markdown",
      "metadata": {
        "papermill": {
          "duration": 0.017339,
          "end_time": "2020-10-04T08:38:39.074337",
          "exception": false,
          "start_time": "2020-10-04T08:38:39.056998",
          "status": "completed"
        },
        "tags": [],
        "id": "hsfP9Dj6n1mQ"
      },
      "source": [
        "On this plot we can see features importance. "
      ]
    },
    {
      "cell_type": "code",
      "metadata": {
        "_kg_hide-input": true,
        "execution": {
          "iopub.execute_input": "2020-10-04T08:38:39.120246Z",
          "iopub.status.busy": "2020-10-04T08:38:39.119223Z",
          "iopub.status.idle": "2020-10-04T08:38:40.278913Z",
          "shell.execute_reply": "2020-10-04T08:38:40.278216Z"
        },
        "papermill": {
          "duration": 1.186319,
          "end_time": "2020-10-04T08:38:40.279064",
          "exception": false,
          "start_time": "2020-10-04T08:38:39.092745",
          "status": "completed"
        },
        "tags": [],
        "id": "dkTWA7Ywn1mQ",
        "outputId": "5cba5dfb-0ff2-4ee2-bd16-451beae6c9bf"
      },
      "source": [
        "def plot_features(booster):    \n",
        "    importance = pd.DataFrame({'importance': model.feature_importances_, \\\n",
        "                               'name' : data.drop('salary', axis=1).columns})\n",
        "\n",
        "    fig = px.bar(importance.sort_values(by='importance', ascending=True), \n",
        "                 x = 'importance', y = 'name')\n",
        "    fig.show()\n",
        "  \n",
        "\n",
        "plot_features(model)"
      ],
      "execution_count": null,
      "outputs": [
        {
          "data": {
            "text/html": [
              "<div>                            <div id=\"0226a923-473c-46cc-a054-aaf732304d7a\" class=\"plotly-graph-div\" style=\"height:525px; width:100%;\"></div>            <script type=\"text/javascript\">                require([\"plotly\"], function(Plotly) {                    window.PLOTLYENV=window.PLOTLYENV || {};                                    if (document.getElementById(\"0226a923-473c-46cc-a054-aaf732304d7a\")) {                    Plotly.newPlot(                        \"0226a923-473c-46cc-a054-aaf732304d7a\",                        [{\"alignmentgroup\": \"True\", \"hovertemplate\": \"importance=%{x}<br>name=%{y}<extra></extra>\", \"legendgroup\": \"\", \"marker\": {\"color\": \"#636efa\"}, \"name\": \"\", \"offsetgroup\": \"\", \"orientation\": \"h\", \"showlegend\": false, \"textposition\": \"auto\", \"type\": \"bar\", \"x\": [0.018370341509580612, 0.01989443600177765, 0.020833799615502357, 0.022977525368332863, 0.029267465695738792, 0.033750586211681366, 0.0353100448846817, 0.039065852761268616, 0.041191551834344864, 0.04299648851156235, 0.046435415744781494, 0.06544122099876404, 0.08899236470460892, 0.09725119173526764, 0.13347560167312622, 0.26474612951278687], \"xaxis\": \"x\", \"y\": [\"team_salary_(7000000.0, 7600000.0]\", \"height\", \"position_F-C\", \"position_G\", \"country_not USA\", \"team_salary_(7600000.0, 8100000.0]\", \"weight\", \"draft_round_2\", \"team_salary_(9500000.0, inf]\", \"team_salary_(9000000.0, 9500000.0]\", \"position_F\", \"team_salary_(8100000.0, 9000000.0]\", \"age\", \"draft_year\", \"draft_round_1\", \"rating\"], \"yaxis\": \"y\"}],                        {\"barmode\": \"relative\", \"legend\": {\"tracegroupgap\": 0}, \"margin\": {\"t\": 60}, \"template\": {\"data\": {\"bar\": [{\"error_x\": {\"color\": \"#2a3f5f\"}, \"error_y\": {\"color\": \"#2a3f5f\"}, \"marker\": {\"line\": {\"color\": \"#E5ECF6\", \"width\": 0.5}}, \"type\": \"bar\"}], \"barpolar\": [{\"marker\": {\"line\": {\"color\": \"#E5ECF6\", \"width\": 0.5}}, \"type\": \"barpolar\"}], \"carpet\": [{\"aaxis\": {\"endlinecolor\": \"#2a3f5f\", \"gridcolor\": \"white\", \"linecolor\": \"white\", \"minorgridcolor\": \"white\", \"startlinecolor\": \"#2a3f5f\"}, \"baxis\": {\"endlinecolor\": \"#2a3f5f\", \"gridcolor\": \"white\", \"linecolor\": \"white\", \"minorgridcolor\": \"white\", \"startlinecolor\": \"#2a3f5f\"}, \"type\": \"carpet\"}], \"choropleth\": [{\"colorbar\": {\"outlinewidth\": 0, \"ticks\": \"\"}, \"type\": \"choropleth\"}], \"contour\": [{\"colorbar\": {\"outlinewidth\": 0, \"ticks\": \"\"}, \"colorscale\": [[0.0, \"#0d0887\"], [0.1111111111111111, \"#46039f\"], [0.2222222222222222, \"#7201a8\"], [0.3333333333333333, \"#9c179e\"], [0.4444444444444444, \"#bd3786\"], [0.5555555555555556, \"#d8576b\"], [0.6666666666666666, \"#ed7953\"], [0.7777777777777778, \"#fb9f3a\"], [0.8888888888888888, \"#fdca26\"], [1.0, \"#f0f921\"]], \"type\": \"contour\"}], \"contourcarpet\": [{\"colorbar\": {\"outlinewidth\": 0, \"ticks\": \"\"}, \"type\": \"contourcarpet\"}], \"heatmap\": [{\"colorbar\": {\"outlinewidth\": 0, \"ticks\": \"\"}, \"colorscale\": [[0.0, \"#0d0887\"], [0.1111111111111111, \"#46039f\"], [0.2222222222222222, \"#7201a8\"], [0.3333333333333333, \"#9c179e\"], [0.4444444444444444, \"#bd3786\"], [0.5555555555555556, \"#d8576b\"], [0.6666666666666666, \"#ed7953\"], [0.7777777777777778, \"#fb9f3a\"], [0.8888888888888888, \"#fdca26\"], [1.0, \"#f0f921\"]], \"type\": \"heatmap\"}], \"heatmapgl\": [{\"colorbar\": {\"outlinewidth\": 0, \"ticks\": \"\"}, \"colorscale\": [[0.0, \"#0d0887\"], [0.1111111111111111, \"#46039f\"], [0.2222222222222222, \"#7201a8\"], [0.3333333333333333, \"#9c179e\"], [0.4444444444444444, \"#bd3786\"], [0.5555555555555556, \"#d8576b\"], [0.6666666666666666, \"#ed7953\"], [0.7777777777777778, \"#fb9f3a\"], [0.8888888888888888, \"#fdca26\"], [1.0, \"#f0f921\"]], \"type\": \"heatmapgl\"}], \"histogram\": [{\"marker\": {\"colorbar\": {\"outlinewidth\": 0, \"ticks\": \"\"}}, \"type\": \"histogram\"}], \"histogram2d\": [{\"colorbar\": {\"outlinewidth\": 0, \"ticks\": \"\"}, \"colorscale\": [[0.0, \"#0d0887\"], [0.1111111111111111, \"#46039f\"], [0.2222222222222222, \"#7201a8\"], [0.3333333333333333, \"#9c179e\"], [0.4444444444444444, \"#bd3786\"], [0.5555555555555556, \"#d8576b\"], [0.6666666666666666, \"#ed7953\"], [0.7777777777777778, \"#fb9f3a\"], [0.8888888888888888, \"#fdca26\"], [1.0, \"#f0f921\"]], \"type\": \"histogram2d\"}], \"histogram2dcontour\": [{\"colorbar\": {\"outlinewidth\": 0, \"ticks\": \"\"}, \"colorscale\": [[0.0, \"#0d0887\"], [0.1111111111111111, \"#46039f\"], [0.2222222222222222, \"#7201a8\"], [0.3333333333333333, \"#9c179e\"], [0.4444444444444444, \"#bd3786\"], [0.5555555555555556, \"#d8576b\"], [0.6666666666666666, \"#ed7953\"], [0.7777777777777778, \"#fb9f3a\"], [0.8888888888888888, \"#fdca26\"], [1.0, \"#f0f921\"]], \"type\": \"histogram2dcontour\"}], \"mesh3d\": [{\"colorbar\": {\"outlinewidth\": 0, \"ticks\": \"\"}, \"type\": \"mesh3d\"}], \"parcoords\": [{\"line\": {\"colorbar\": {\"outlinewidth\": 0, \"ticks\": \"\"}}, \"type\": \"parcoords\"}], \"pie\": [{\"automargin\": true, \"type\": \"pie\"}], \"scatter\": [{\"marker\": {\"colorbar\": {\"outlinewidth\": 0, \"ticks\": \"\"}}, \"type\": \"scatter\"}], \"scatter3d\": [{\"line\": {\"colorbar\": {\"outlinewidth\": 0, \"ticks\": \"\"}}, \"marker\": {\"colorbar\": {\"outlinewidth\": 0, \"ticks\": \"\"}}, \"type\": \"scatter3d\"}], \"scattercarpet\": [{\"marker\": {\"colorbar\": {\"outlinewidth\": 0, \"ticks\": \"\"}}, \"type\": \"scattercarpet\"}], \"scattergeo\": [{\"marker\": {\"colorbar\": {\"outlinewidth\": 0, \"ticks\": \"\"}}, \"type\": \"scattergeo\"}], \"scattergl\": [{\"marker\": {\"colorbar\": {\"outlinewidth\": 0, \"ticks\": \"\"}}, \"type\": \"scattergl\"}], \"scattermapbox\": [{\"marker\": {\"colorbar\": {\"outlinewidth\": 0, \"ticks\": \"\"}}, \"type\": \"scattermapbox\"}], \"scatterpolar\": [{\"marker\": {\"colorbar\": {\"outlinewidth\": 0, \"ticks\": \"\"}}, \"type\": \"scatterpolar\"}], \"scatterpolargl\": [{\"marker\": {\"colorbar\": {\"outlinewidth\": 0, \"ticks\": \"\"}}, \"type\": \"scatterpolargl\"}], \"scatterternary\": [{\"marker\": {\"colorbar\": {\"outlinewidth\": 0, \"ticks\": \"\"}}, \"type\": \"scatterternary\"}], \"surface\": [{\"colorbar\": {\"outlinewidth\": 0, \"ticks\": \"\"}, \"colorscale\": [[0.0, \"#0d0887\"], [0.1111111111111111, \"#46039f\"], [0.2222222222222222, \"#7201a8\"], [0.3333333333333333, \"#9c179e\"], [0.4444444444444444, \"#bd3786\"], [0.5555555555555556, \"#d8576b\"], [0.6666666666666666, \"#ed7953\"], [0.7777777777777778, \"#fb9f3a\"], [0.8888888888888888, \"#fdca26\"], [1.0, \"#f0f921\"]], \"type\": \"surface\"}], \"table\": [{\"cells\": {\"fill\": {\"color\": \"#EBF0F8\"}, \"line\": {\"color\": \"white\"}}, \"header\": {\"fill\": {\"color\": \"#C8D4E3\"}, \"line\": {\"color\": \"white\"}}, \"type\": \"table\"}]}, \"layout\": {\"annotationdefaults\": {\"arrowcolor\": \"#2a3f5f\", \"arrowhead\": 0, \"arrowwidth\": 1}, \"coloraxis\": {\"colorbar\": {\"outlinewidth\": 0, \"ticks\": \"\"}}, \"colorscale\": {\"diverging\": [[0, \"#8e0152\"], [0.1, \"#c51b7d\"], [0.2, \"#de77ae\"], [0.3, \"#f1b6da\"], [0.4, \"#fde0ef\"], [0.5, \"#f7f7f7\"], [0.6, \"#e6f5d0\"], [0.7, \"#b8e186\"], [0.8, \"#7fbc41\"], [0.9, \"#4d9221\"], [1, \"#276419\"]], \"sequential\": [[0.0, \"#0d0887\"], [0.1111111111111111, \"#46039f\"], [0.2222222222222222, \"#7201a8\"], [0.3333333333333333, \"#9c179e\"], [0.4444444444444444, \"#bd3786\"], [0.5555555555555556, \"#d8576b\"], [0.6666666666666666, \"#ed7953\"], [0.7777777777777778, \"#fb9f3a\"], [0.8888888888888888, \"#fdca26\"], [1.0, \"#f0f921\"]], \"sequentialminus\": [[0.0, \"#0d0887\"], [0.1111111111111111, \"#46039f\"], [0.2222222222222222, \"#7201a8\"], [0.3333333333333333, \"#9c179e\"], [0.4444444444444444, \"#bd3786\"], [0.5555555555555556, \"#d8576b\"], [0.6666666666666666, \"#ed7953\"], [0.7777777777777778, \"#fb9f3a\"], [0.8888888888888888, \"#fdca26\"], [1.0, \"#f0f921\"]]}, \"colorway\": [\"#636efa\", \"#EF553B\", \"#00cc96\", \"#ab63fa\", \"#FFA15A\", \"#19d3f3\", \"#FF6692\", \"#B6E880\", \"#FF97FF\", \"#FECB52\"], \"font\": {\"color\": \"#2a3f5f\"}, \"geo\": {\"bgcolor\": \"white\", \"lakecolor\": \"white\", \"landcolor\": \"#E5ECF6\", \"showlakes\": true, \"showland\": true, \"subunitcolor\": \"white\"}, \"hoverlabel\": {\"align\": \"left\"}, \"hovermode\": \"closest\", \"mapbox\": {\"style\": \"light\"}, \"paper_bgcolor\": \"white\", \"plot_bgcolor\": \"#E5ECF6\", \"polar\": {\"angularaxis\": {\"gridcolor\": \"white\", \"linecolor\": \"white\", \"ticks\": \"\"}, \"bgcolor\": \"#E5ECF6\", \"radialaxis\": {\"gridcolor\": \"white\", \"linecolor\": \"white\", \"ticks\": \"\"}}, \"scene\": {\"xaxis\": {\"backgroundcolor\": \"#E5ECF6\", \"gridcolor\": \"white\", \"gridwidth\": 2, \"linecolor\": \"white\", \"showbackground\": true, \"ticks\": \"\", \"zerolinecolor\": \"white\"}, \"yaxis\": {\"backgroundcolor\": \"#E5ECF6\", \"gridcolor\": \"white\", \"gridwidth\": 2, \"linecolor\": \"white\", \"showbackground\": true, \"ticks\": \"\", \"zerolinecolor\": \"white\"}, \"zaxis\": {\"backgroundcolor\": \"#E5ECF6\", \"gridcolor\": \"white\", \"gridwidth\": 2, \"linecolor\": \"white\", \"showbackground\": true, \"ticks\": \"\", \"zerolinecolor\": \"white\"}}, \"shapedefaults\": {\"line\": {\"color\": \"#2a3f5f\"}}, \"ternary\": {\"aaxis\": {\"gridcolor\": \"white\", \"linecolor\": \"white\", \"ticks\": \"\"}, \"baxis\": {\"gridcolor\": \"white\", \"linecolor\": \"white\", \"ticks\": \"\"}, \"bgcolor\": \"#E5ECF6\", \"caxis\": {\"gridcolor\": \"white\", \"linecolor\": \"white\", \"ticks\": \"\"}}, \"title\": {\"x\": 0.05}, \"xaxis\": {\"automargin\": true, \"gridcolor\": \"white\", \"linecolor\": \"white\", \"ticks\": \"\", \"title\": {\"standoff\": 15}, \"zerolinecolor\": \"white\", \"zerolinewidth\": 2}, \"yaxis\": {\"automargin\": true, \"gridcolor\": \"white\", \"linecolor\": \"white\", \"ticks\": \"\", \"title\": {\"standoff\": 15}, \"zerolinecolor\": \"white\", \"zerolinewidth\": 2}}}, \"xaxis\": {\"anchor\": \"y\", \"domain\": [0.0, 1.0], \"title\": {\"text\": \"importance\"}}, \"yaxis\": {\"anchor\": \"x\", \"domain\": [0.0, 1.0], \"title\": {\"text\": \"name\"}}},                        {\"responsive\": true}                    ).then(function(){\n",
              "                            \n",
              "var gd = document.getElementById('0226a923-473c-46cc-a054-aaf732304d7a');\n",
              "var x = new MutationObserver(function (mutations, observer) {{\n",
              "        var display = window.getComputedStyle(gd).display;\n",
              "        if (!display || display === 'none') {{\n",
              "            console.log([gd, 'removed!']);\n",
              "            Plotly.purge(gd);\n",
              "            observer.disconnect();\n",
              "        }}\n",
              "}});\n",
              "\n",
              "// Listen for the removal of the full notebook cells\n",
              "var notebookContainer = gd.closest('#notebook-container');\n",
              "if (notebookContainer) {{\n",
              "    x.observe(notebookContainer, {childList: true});\n",
              "}}\n",
              "\n",
              "// Listen for the clearing of the current output cell\n",
              "var outputEl = gd.closest('.output');\n",
              "if (outputEl) {{\n",
              "    x.observe(outputEl, {childList: true});\n",
              "}}\n",
              "\n",
              "                        })                };                });            </script>        </div>"
            ]
          },
          "metadata": {},
          "output_type": "display_data"
        }
      ]
    },
    {
      "cell_type": "code",
      "metadata": {
        "papermill": {
          "duration": 0.01882,
          "end_time": "2020-10-04T08:38:40.316623",
          "exception": false,
          "start_time": "2020-10-04T08:38:40.297803",
          "status": "completed"
        },
        "tags": [],
        "id": "NDXquGQ4n1mR"
      },
      "source": [
        ""
      ],
      "execution_count": null,
      "outputs": []
    }
  ]
}